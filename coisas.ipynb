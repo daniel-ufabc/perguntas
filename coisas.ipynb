{
 "cells": [
  {
   "cell_type": "code",
   "execution_count": null,
   "metadata": {},
   "outputs": [],
   "source": [
    "respostas = list()\n",
    "for i in range(3):\n",
    "    respostas.append(input('Dê uma resposta: '))"
   ]
  },
  {
   "cell_type": "code",
   "execution_count": null,
   "metadata": {},
   "outputs": [],
   "source": [
    "def esta_ordenada(L):\n",
    "    n = len(L)\n",
    "    for i in range(n - 1):\n",
    "        if x[i] >= x[i+1]:\n",
    "            return False\n",
    "        \n",
    "    return True"
   ]
  },
  {
   "cell_type": "code",
   "execution_count": null,
   "metadata": {},
   "outputs": [],
   "source": [
    "import csv\n",
    "import unidecode as ud\n",
    "\n",
    "filename = 'planilha.csv'\n",
    "questionario = dict()\n",
    "with open(filename, encoding='utf-8') as f:\n",
    "    rows = csv.reader(f)\n",
    "    for row in rows:\n",
    "        idp = row[0]\n",
    "        textop = row[7]\n",
    "        respostasp = dict()\n",
    "        for i in range(5):\n",
    "            key = row[8 + 2*i]\n",
    "            value = ud.unidecode(row[9 + 2*i]).lower()\n",
    "            if key:\n",
    "                if value == 'proxima':\n",
    "                    value = idp + 1\n",
    "                respostasp[key] = value\n",
    "        questionario[idp] = {'texto': textop, 'respostas': respostasp}\n"
   ]
  }
 ],
 "metadata": {
  "kernelspec": {
   "display_name": "Python 3",
   "language": "python",
   "name": "python3"
  },
  "language_info": {
   "codemirror_mode": {
    "name": "ipython",
    "version": 3
   },
   "file_extension": ".py",
   "mimetype": "text/x-python",
   "name": "python",
   "nbconvert_exporter": "python",
   "pygments_lexer": "ipython3",
   "version": "3.5.2"
  }
 },
 "nbformat": 4,
 "nbformat_minor": 2
}
